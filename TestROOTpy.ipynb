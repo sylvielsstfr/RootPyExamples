{
 "cells": [
  {
   "cell_type": "code",
   "execution_count": 1,
   "metadata": {
    "collapsed": true
   },
   "outputs": [],
   "source": [
    "import numpy as np\n",
    "# Set up matplotlib and use a nicer set of plot parameters\n",
    "import matplotlib\n",
    "import matplotlib.pyplot as plt\n",
    "%matplotlib inline"
   ]
  },
  {
   "cell_type": "code",
   "execution_count": 2,
   "metadata": {},
   "outputs": [
    {
     "name": "stdout",
     "output_type": "stream",
     "text": [
      "Automatically created module for IPython interactive environment\n"
     ]
    },
    {
     "data": {
      "application/javascript": [
       "require(['codemirror/mode/clike/clike'], function(Clike) { console.log('ROOTaaS - C++ CodeMirror module loaded'); });"
      ]
     },
     "metadata": {},
     "output_type": "display_data"
    },
    {
     "data": {
      "application/javascript": [
       "IPython.CodeCell.config_defaults.highlight_modes['magic_text/x-c++src'] = {'reg':[/^%%cpp/]};"
      ]
     },
     "metadata": {},
     "output_type": "display_data"
    },
    {
     "name": "stdout",
     "output_type": "stream",
     "text": [
      "Welcome to ROOTaaS 6.06/04\n",
      "---------------------------------------------------------\n",
      "\t\tmethod                    bins   time [s]\n",
      "---------------------------------------------------------\n",
      "normal_small\n",
      "\t\tmanual1                     50   0.07  \n",
      "\t\tsturges                      9   0.00  \n",
      "\t\tsturges-doane               21   0.00  \n",
      "\t\tscott                        9   0.00  \n",
      "\t\tsqrt                        15   0.00  \n",
      "\t\tdoane                        9   0.22  \n",
      "\t\tfreedman-diaconis           12   0.00  \n",
      "\t\trisk                        14   0.01  \n",
      "\t\tknuth                       15   0.01  \n",
      "normal\n",
      "\t\tmanual1                     50   0.06  \n",
      "\t\tsturges                     18   0.05  \n",
      "\t\tsturges-doane               87   0.06  \n",
      "\t\tscott                      113   0.06  \n",
      "\t\tsqrt                       317   0.06  \n",
      "\t\tdoane                       19   0.06  \n",
      "\t\tfreedman-diaconis          147   0.06  \n",
      "\t\trisk                       295   0.70  \n",
      "\t\tknuth                      253   0.54  \n"
     ]
    }
   ],
   "source": [
    "print(__doc__)\n",
    "from rootpy.plotting import histogram, Canvas\n",
    "from rootpy.interactive import wait\n",
    "import time\n",
    "\n",
    "import ROOT\n",
    "import numpy as np\n",
    "\n",
    "ROOT.gStyle.SetOptStat(0)\n",
    "\n",
    "\n",
    "class Timer(object):\n",
    "    def __enter__(self):\n",
    "        self.__start = time.time()\n",
    "\n",
    "    def __exit__(self, type, value, traceback):\n",
    "        self.__finish = time.time()\n",
    "\n",
    "    def duration_in_seconds(self):\n",
    "        return self.__finish - self.__start\n",
    "\n",
    "\n",
    "data0 = \"normal_small\", np.random.normal(0.5, 1, 200)\n",
    "data1 = \"normal\", np.random.normal(0.5, 1, 100000)\n",
    "data2 = \"uniform\", np.random.random(100000)\n",
    "data3 = \"normal+uniform\", np.concatenate((data1[1], 10 * data2[1]))\n",
    "data4 = \"normal+normal\", np.concatenate((data1[1], np.random.normal(2.5, 0.1, 100000)))\n",
    "\n",
    "if ROOT.gROOT.IsBatch():\n",
    "    datas = (data0, data1)\n",
    "else:\n",
    "    datas = (data0, data1, data2, data3, data4)\n",
    "\n",
    "recipes = (\n",
    "    \"manual1\", \"sturges\", \"sturges-doane\", \"scott\", \"sqrt\",\n",
    "    \"doane\", \"freedman-diaconis\", \"risk\", \"knuth\")\n",
    "objs = []\n",
    "canvas = Canvas()\n",
    "canvas.Divide(len(recipes), len(datas), 1E-3, 1E-3)\n",
    "print('-' * 57)\n",
    "print('\\t\\t{0:<20s}{1:>10s}   {2:<6s}'.format('method', 'bins', 'time [s]'))\n",
    "print('-' * 57)\n",
    "for id, (dataname, d) in enumerate(datas):\n",
    "    print(dataname)\n",
    "    for ir, r in enumerate(recipes):\n",
    "        canvas.cd(id * len(recipes) + ir + 1)\n",
    "        timer = Timer()\n",
    "        if r == \"manual1\":\n",
    "            with timer:\n",
    "                bins, h = histogram(d, 50, np.min(d), np.max(d),\n",
    "                                    drawstyle='hist')\n",
    "        else:\n",
    "            with timer:\n",
    "                bins, h = histogram(d, binning=r, drawstyle='hist')\n",
    "        print('\\t\\t{0:<20s}{1:>10d}   {2:<6.2f}'.format(\n",
    "            r, h.GetNbinsX(), timer.duration_in_seconds()))\n",
    "        h.Draw()\n",
    "        h.GetYaxis().SetRangeUser(0, h.GetMaximum() * 1.2)\n",
    "        l = ROOT.TLatex(0.15, 0.8, \"{0}: {1:d}\".format(r, h.GetNbinsX()))\n",
    "        l.SetNDC()\n",
    "        l.SetTextSize(0.1)\n",
    "        l.Draw()\n",
    "        canvas.Update()\n",
    "\n",
    "wait()"
   ]
  },
  {
   "cell_type": "code",
   "execution_count": 3,
   "metadata": {},
   "outputs": [
    {
     "name": "stdout",
     "output_type": "stream",
     "text": [
      "Automatically created module for IPython interactive environment\n",
      "Hist_AKzfenuPGJQZgAGJdptwvR\n",
      "my hist\n",
      "Some Data\n",
      "1.0\n"
     ]
    }
   ],
   "source": [
    "print(__doc__)\n",
    "from rootpy.extern.six.moves import range\n",
    "from rootpy.plotting import Hist, Hist2D, Hist3D, HistStack, Legend, Canvas\n",
    "from rootpy.interactive import wait\n",
    "import random\n",
    "\n",
    "# create a simple 1D histogram with 10 constant-width bins between 0 and 1\n",
    "h_simple = Hist(10, 0, 1)\n",
    "print(h_simple.name)\n",
    "\n",
    "# If the name is not specified, a UUID is used so that ROOT never complains\n",
    "# about two histograms having the same name.\n",
    "# Alternatively you can specify the name (and the title or any other style\n",
    "# attributes) in the constructor:\n",
    "h_simple = Hist(10, -4, 12, name='my hist', title='Some Data',\n",
    "                drawstyle='hist',\n",
    "                legendstyle='F',\n",
    "                fillstyle='/')\n",
    "\n",
    "# fill the histogram\n",
    "for i in range(1000):\n",
    "    # all ROOT CamelCase methods are aliased by equivalent snake_case methods\n",
    "    # so you can call fill() instead of Fill()\n",
    "    h_simple.Fill(random.gauss(4, 3))\n",
    "\n",
    "# easily set visual attributes\n",
    "h_simple.linecolor = 'blue'\n",
    "h_simple.fillcolor = 'green'\n",
    "h_simple.fillstyle = '/'\n",
    "\n",
    "# attributes may be accessed in the same way\n",
    "print(h_simple.name)\n",
    "print(h_simple.title)\n",
    "print(h_simple.markersize)\n",
    "\n",
    "# plot\n",
    "canvas = Canvas(width=700, height=500)\n",
    "canvas.SetLeftMargin(0.15)\n",
    "canvas.SetBottomMargin(0.15)\n",
    "canvas.SetTopMargin(0.10)\n",
    "canvas.SetRightMargin(0.05)\n",
    "h_simple.Draw()\n",
    "\n",
    "# create the legend\n",
    "legend = Legend([h_simple], pad=canvas,\n",
    "                header='Header',\n",
    "                leftmargin=0.05,\n",
    "                rightmargin=0.5)\n",
    "legend.Draw()\n",
    "\n",
    "# 2D and 3D histograms are handled in the same way\n",
    "# the constructor arguments are repetitions of #bins, left bound, right bound.\n",
    "h2d = Hist2D(10, 0, 1, 50, -40, 10, name='2d hist')\n",
    "h3d = Hist3D(3, -1, 4, 10, -1000, -200, 2, 0, 1, name='3d hist')\n",
    "\n",
    "# variable-width bins may be created by passing the bin edges directly:\n",
    "h1d_variable = Hist([1, 4, 10, 100])\n",
    "h2d_variable = Hist2D([2, 4, 7, 100, 200], [-100, -50, 0, 10, 20])\n",
    "h3d_variable = Hist3D([1, 3, 10], [20, 50, 100], [-10, -5, 10, 20])\n",
    "\n",
    "# variable-width and constant-width bins can be mixed:\n",
    "h2d_mixed = Hist2D([2, 10, 30], 10, 1, 5)\n",
    "\n",
    "# wait for you to close all open canvases before exiting\n",
    "# wait() will have no effect if ROOT is in batch mode:\n",
    "# ROOT.gROOT.SetBatch(True)\n",
    "wait()\n"
   ]
  },
  {
   "cell_type": "code",
   "execution_count": 4,
   "metadata": {},
   "outputs": [
    {
     "name": "stderr",
     "output_type": "stream",
     "text": [
      "INFO:rootpy.plotting.style] using ROOT style 'ATLAS'\n",
      "INFO:rootpy.plotting.style] using matplotlib style 'ATLAS'\n"
     ]
    },
    {
     "name": "stdout",
     "output_type": "stream",
     "text": [
      "Automatically created module for IPython interactive environment\n"
     ]
    },
    {
     "name": "stderr",
     "output_type": "stream",
     "text": [
      "/sps/lsst/dev/dagoret/anaconda2/lib/python2.7/site-packages/matplotlib/font_manager.py:1297: UserWarning: findfont: Font family [u'sans-serif'] not found. Falling back to DejaVu Sans\n",
      "  (prop.get_family(), self.defaultFamily[fontext]))\n"
     ]
    },
    {
     "data": {
      "image/png": "[encoded data removed]",
      "text/plain": [
       "<matplotlib.figure.Figure at 0x7fd04fd69650>"
      ]
     },
     "metadata": {},
     "output_type": "display_data"
    },
    {
     "data": {
      "image/png": "[encoded data removed]",
      "text/plain": [
       "<matplotlib.figure.Figure at 0x7fd035d24110>"
      ]
     },
     "metadata": {},
     "output_type": "display_data"
    }
   ],
   "source": [
    "print(__doc__)\n",
    "import ROOT\n",
    "import numpy as np\n",
    "from rootpy.plotting import Canvas, Graph\n",
    "from rootpy.plotting.style import get_style, set_style\n",
    "from rootpy.interactive import wait\n",
    "import rootpy.plotting.root2matplotlib as rplt\n",
    "import matplotlib.pyplot as plt\n",
    "from matplotlib.ticker import AutoMinorLocator, MultipleLocator\n",
    "\n",
    "# set the random seed\n",
    "ROOT.gRandom.SetSeed(42)\n",
    "np.random.seed(42)\n",
    "\n",
    "# points\n",
    "x = np.sort(np.random.random(10)) * 3500\n",
    "y = np.random.random(10)\n",
    "\n",
    "# set style for ROOT\n",
    "set_style('ATLAS')\n",
    "\n",
    "# create graph\n",
    "graph = Graph(x.shape[0])\n",
    "for i, (xx, yy) in enumerate(zip(x, y)):\n",
    "    graph.SetPoint(i, xx, yy)\n",
    "\n",
    "# set visual attributes\n",
    "graph.linecolor = 'blue'\n",
    "graph.markercolor = 'blue'\n",
    "graph.xaxis.SetTitle(\"E_{T} [GeV]\")\n",
    "graph.yaxis.SetTitle(\"d#sigma_{jet}/dE_{T,jet} [fb/GeV]\")\n",
    "graph.xaxis.SetRangeUser(0, 3500)\n",
    "graph.yaxis.SetRangeUser(0, 1)\n",
    "\n",
    "# plot with ROOT\n",
    "canvas = Canvas()\n",
    "graph.Draw(\"APL\")\n",
    "\n",
    "label = ROOT.TText(0.4, 0.8, \"ROOT\")\n",
    "label.SetTextFont(43)\n",
    "label.SetTextSize(25)\n",
    "label.SetNDC()\n",
    "label.Draw()\n",
    "canvas.Modified()\n",
    "canvas.Update()\n",
    "\n",
    "# plot with matplotlib\n",
    "\n",
    "def plot_with_matplotlib():\n",
    "    fig, axes = plt.subplots()\n",
    "\n",
    "    axes.plot(x, y, 'o-', markeredgewidth=0)\n",
    "    axes.set_xlabel(r\"$E_T$ [GeV]\",\n",
    "                    horizontalalignment=\"right\", x=1, labelpad=20)\n",
    "    axes.set_ylabel(r\"$d\\sigma_{jet}/dE_{T,jet}$ [fb/GeV]\",\n",
    "                    horizontalalignment=\"right\", y=1, labelpad=32)\n",
    "    axes.set_xlim(0, 3500)\n",
    "    axes.set_ylim(0, 1)\n",
    "\n",
    "    return fig, axes\n",
    "\n",
    "# plot without style\n",
    "fig1, axes1 = plot_with_matplotlib()\n",
    "axes1.text(0.4, 0.8, 'matplotlib (no style)',\n",
    "           verticalalignment='center', horizontalalignment='center',\n",
    "           transform=axes1.transAxes, fontsize=20)\n",
    "\n",
    "# plot with ATLAS style\n",
    "set_style('ATLAS', mpl=True)\n",
    "fig2, axes2 = plot_with_matplotlib()\n",
    "axes2.text(0.4, 0.8, 'matplotlib',\n",
    "           verticalalignment='center', horizontalalignment='center',\n",
    "           transform=axes2.transAxes, fontsize=20)\n",
    "axes2.xaxis.set_minor_locator(AutoMinorLocator())\n",
    "axes2.yaxis.set_minor_locator(AutoMinorLocator())\n",
    "\n",
    "if not ROOT.gROOT.IsBatch():\n",
    "    plt.show()\n",
    "\n",
    "# wait for you to close the canvas before exiting\n",
    "wait(True)"
   ]
  },
  {
   "cell_type": "code",
   "execution_count": null,
   "metadata": {
    "collapsed": true
   },
   "outputs": [],
   "source": []
  }
 ],
 "metadata": {
  "kernelspec": {
   "display_name": "Python 2",
   "language": "python",
   "name": "python2"
  },
  "language_info": {
   "codemirror_mode": {
    "name": "ipython",
    "version": 2
   },
   "file_extension": ".py",
   "mimetype": "text/x-python",
   "name": "python",
   "nbconvert_exporter": "python",
   "pygments_lexer": "ipython2",
   "version": "2.7.13"
  }
 },
 "nbformat": 4,
 "nbformat_minor": 2
}
